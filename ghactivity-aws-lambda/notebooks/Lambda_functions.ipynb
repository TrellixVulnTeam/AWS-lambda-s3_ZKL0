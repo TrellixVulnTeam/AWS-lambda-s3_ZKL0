{
 "cells": [
  {
   "cell_type": "code",
   "execution_count": null,
   "metadata": {},
   "outputs": [],
   "source": [
    "import os\n",
    "import json\n",
    "import boto3\n",
    "def lambda_main(event, context):\n",
    "    s3_client=boto3.client('s3')\n",
    "    buckets_names=os.environ.get('BUCKET_NAME')\n",
    "    print(f'the bucket name that is passed in environment bariable is {buckets_names}')\n",
    "    objects=s3_client.list_objects(Bucket=buckets_names)\n",
    "    objects_names = []\n",
    "    print(objects)\n",
    "#     // {'ResponseMetadata': \n",
    "    # //     {'RequestId': 'GSVKTHDWCSZ82H7D', 'HostId': 'am7Dee6C2Qz+fSO6FKfjuoe9pTRpeUVxULME7VkIdIkp3Wu/D7KMCvj/FTMJmHENYpsTAKpcvLw=', 'HTTPStatusCode': 200, 'HTTPHeaders': {'x-amz-id-2': 'am7Dee6C2Qz+fSO6FKfjuoe9pTRpeUVxULME7VkIdIkp3Wu/D7KMCvj/FTMJmHENYpsTAKpcvLw=', 'x-amz-request-id': 'GSVKTHDWCSZ82H7D', 'date': 'Mon, 25 Jul 2022 19:31:44 GMT', 'x-amz-bucket-region': 'us-east-1', 'content-type': 'application/xml', 'transfer-encoding': 'chunked', 'server': 'AmazonS3'}, 'RetryAttempts': 0},\n",
    "    # //     'IsTruncated': False, 'Marker': '', \n",
    "    # //     'Contents': [{'Key': 'landing/2022-07-22-0.json.gz', 'LastModified': datetime.datetime(2022, 7, 25, 17, 25, 59, tzinfo=tzlocal()), 'ETag': '\"22d7b7efb2e38a942e8357ff82d485dd\"', 'Size': 78542652, 'StorageClass': 'STANDARD', 'Owner': {'DisplayName': 'shubhs.gp', 'ID': '7c34f421ba8842bfa5d2737d388839a764c1981bc2d3930b4213eeb83c0278b3'}}, \n",
    "    # //                  {'Key': 'landing/2022-07-22-1.json.gz', 'LastModified': datetime.datetime(2022, 7, 25, 17, 30, 50, tzinfo=tzlocal()), 'ETag': '\"f7f668e0b11df3aca382af6e86052745\"', 'Size': 76992635, 'StorageClass': 'STANDARD', 'Owner': {'DisplayName': 'shubhs.gp', 'ID': '7c34f421ba8842bfa5d2737d388839a764c1981bc2d3930b4213eeb83c0278b3'}}], \n",
    "    # //     'Name': 'sgghactivity', 'Prefix': '', 'MaxKeys': 1000, 'EncodingType': 'url'}\n",
    "    for i in objects['Contents']:\n",
    "        objects_names.append(i['Key'])\n",
    "    # print(buckets)\n",
    "    # buckets_names=[]\n",
    "    # #buckets_names=[bucket['Name'] for bucket in buckets]\n",
    "    # for bucket in buckets['Buckets']:\n",
    "    #     buckets_names.append(bucket['Name'])\n",
    "    # print(type(event))\n",
    "    # print(event)\n",
    "    # TODO implement\n",
    "    return {\n",
    "        'statusCode': 200,\n",
    "        'body': event,\n",
    "        'buckets':objects_names\n",
    "    }\n",
    "    #-t . will install the dependencies in the required folder\n",
    " #pip install requests -t ."
   ]
  }
 ],
 "metadata": {
  "language_info": {
   "name": "python"
  },
  "orig_nbformat": 4
 },
 "nbformat": 4,
 "nbformat_minor": 2
}
