{
 "cells": [
  {
   "cell_type": "code",
   "execution_count": 2,
   "metadata": {},
   "outputs": [
    {
     "data": {
      "text/plain": [
       "'ghactivity'"
      ]
     },
     "execution_count": 2,
     "metadata": {},
     "output_type": "execute_result"
    }
   ],
   "source": [
    "import os\n",
    "os.environ.setdefault('AWS_PROFILE', 'ghactivity')\n"
   ]
  },
  {
   "cell_type": "code",
   "execution_count": 3,
   "metadata": {},
   "outputs": [],
   "source": [
    "!aws s3 rm  s3://sgghactivity/ --recursive"
   ]
  },
  {
   "cell_type": "code",
   "execution_count": 3,
   "metadata": {},
   "outputs": [
    {
     "data": {
      "text/plain": [
       "{'ResponseMetadata': {'RequestId': 'D8AMSNDBG03BOEHU160V3MIRN7VV4KQNSO5AEMVJF66Q9ASUAAJG',\n",
       "  'HTTPStatusCode': 200,\n",
       "  'HTTPHeaders': {'server': 'Server',\n",
       "   'date': 'Mon, 25 Jul 2022 15:13:44 GMT',\n",
       "   'content-type': 'application/x-amz-json-1.0',\n",
       "   'content-length': '2',\n",
       "   'connection': 'keep-alive',\n",
       "   'x-amzn-requestid': 'D8AMSNDBG03BOEHU160V3MIRN7VV4KQNSO5AEMVJF66Q9ASUAAJG',\n",
       "   'x-amz-crc32': '2745614147'},\n",
       "  'RetryAttempts': 0}}"
      ]
     },
     "execution_count": 3,
     "metadata": {},
     "output_type": "execute_result"
    }
   ],
   "source": [
    "import boto3\n",
    "dynamodb_table=boto3.resource('dynamodb')\n",
    "table= dynamodb_table.Table('jobs')\n",
    "table.delete_item(Key={'job_id': 'ghactivity_ingest'})\n",
    "item = {\n",
    "    'job_id': 'ghactivity_ingest',\n",
    "    'job_description': 'ingest ghactivity data to s3',\n",
    "    'is_active': 'Y',\n",
    "    'baseline_days': 3\n",
    "}\n",
    "table.put_item(Item=item)"
   ]
  },
  {
   "cell_type": "code",
   "execution_count": 17,
   "metadata": {},
   "outputs": [],
   "source": [
    "def get_job_details(job_name):\n",
    "    dynamodb=boto3.resource('dynamodb')\n",
    "    table= dynamodb_table.Table('jobs')\n",
    "    job_details=table.get_item(Key={'job_id': job_name})['Item']\n",
    "    return job_details"
   ]
  },
  {
   "cell_type": "code",
   "execution_count": 18,
   "metadata": {},
   "outputs": [
    {
     "data": {
      "text/plain": [
       "{'job_description': 'ingest ghactivity data to s3',\n",
       " 'is_active': 'Y',\n",
       " 'job_id': 'ghactivity_ingest',\n",
       " 'baseline_days': Decimal('3')}"
      ]
     },
     "execution_count": 18,
     "metadata": {},
     "output_type": "execute_result"
    }
   ],
   "source": [
    "get_job_details('ghactivity_ingest')"
   ]
  },
  {
   "cell_type": "code",
   "execution_count": 19,
   "metadata": {},
   "outputs": [],
   "source": [
    "from datetime import datetime as dt\n",
    "from datetime import timedelta as td\n",
    "import time"
   ]
  },
  {
   "cell_type": "code",
   "execution_count": 21,
   "metadata": {},
   "outputs": [],
   "source": [
    "def get_next_file_name(job_details):\n",
    "    job_start_time=int(time.mktime(dt.now().timetuple()))\n",
    "    job_run_bookmark_details=job_details.get('job_run_bookmark_details')\n",
    "    baseline_days = int(job_details['baseline_days'])\n",
    "    if job_run_bookmark_details:\n",
    "        dt_part = job_run_bookmark_details['last_run_file_name'].split('.')[0].split('/')[-1]\n",
    "        next_file_name = f\"{dt.strftime(dt.strptime(dt_part,'%Y-%m-%d-%H')+td(hours=1), '%Y-%m-%d-%-H')}.json.gz\"\n",
    "    else:\n",
    "        next_file_name = f'{dt.strftime(dt.now().date()-td(days=3), \"%Y-%m-%d\")}-0.json.gz'\n",
    "    return job_start_time,next_file_name\n",
    "        "
   ]
  },
  {
   "cell_type": "code",
   "execution_count": 24,
   "metadata": {},
   "outputs": [],
   "source": [
    "job_details = get_job_details('ghactivity_ingest')"
   ]
  },
  {
   "cell_type": "code",
   "execution_count": 26,
   "metadata": {},
   "outputs": [],
   "source": [
    "job_start_time, next_file = get_next_file_name(job_details)"
   ]
  },
  {
   "cell_type": "code",
   "execution_count": 27,
   "metadata": {},
   "outputs": [
    {
     "data": {
      "text/plain": [
       "'2022-07-22-0.json.gz'"
      ]
     },
     "execution_count": 27,
     "metadata": {},
     "output_type": "execute_result"
    }
   ],
   "source": [
    "next_file"
   ]
  },
  {
   "cell_type": "code",
   "execution_count": 28,
   "metadata": {},
   "outputs": [
    {
     "data": {
      "text/plain": [
       "1658762268"
      ]
     },
     "execution_count": 28,
     "metadata": {},
     "output_type": "execute_result"
    }
   ],
   "source": [
    "job_start_time"
   ]
  },
  {
   "cell_type": "code",
   "execution_count": 29,
   "metadata": {},
   "outputs": [],
   "source": [
    "import requests"
   ]
  },
  {
   "cell_type": "code",
   "execution_count": 30,
   "metadata": {},
   "outputs": [],
   "source": [
    "bucket_name = 'sgghactivity'"
   ]
  },
  {
   "cell_type": "code",
   "execution_count": 31,
   "metadata": {},
   "outputs": [],
   "source": [
    "folder = 'landing'"
   ]
  },
  {
   "cell_type": "code",
   "execution_count": 32,
   "metadata": {},
   "outputs": [],
   "source": [
    "def upload_file_to_s3(file_name, bucket_name, folder):\n",
    "    print(f'getting the {file_name} from gharchive')\n",
    "    res= requests.get(f'https://data.gharchive.org/{file_name}')\n",
    "    print(f' uploading {file_name} to s3 under s3://{bucket_name}/{folder}')\n",
    "    s3_client=boto3.client('s3')\n",
    "    upload_res=s3_client.put_object(\n",
    "        Bucket=bucket_name,\n",
    "        Key=f'{folder}/{file_name}',\n",
    "        Body=res.content\n",
    "    )\n",
    "\n",
    "    return{\n",
    "        'last_run_file_name': f's3://{bucket_name}/{folder}/{file_name}',\n",
    "        'status_code': upload_res['ResponseMetadata']['HTTPStatusCode']\n",
    "\n",
    "    }\n"
   ]
  },
  {
   "cell_type": "code",
   "execution_count": 33,
   "metadata": {},
   "outputs": [
    {
     "name": "stdout",
     "output_type": "stream",
     "text": [
      "getting the 2022-07-22-0.json.gz from gharchive\n",
      " uploading 2022-07-22-0.json.gz to s3 under s3://sgghactivity/landing\n"
     ]
    }
   ],
   "source": [
    "jobs_run_details=upload_file_to_s3(next_file, bucket_name, folder)"
   ]
  },
  {
   "cell_type": "code",
   "execution_count": 34,
   "metadata": {},
   "outputs": [],
   "source": [
    "def save_job_run_details(job_details, jobs_run_details, job_start_time):\n",
    "    dynamodb= boto3.resource('dynamodb')\n",
    "    jobs_run_details_item = {\n",
    "        'job_id': job_details['job_id'],\n",
    "        'jobs_run_time': job_start_time,\n",
    "        'job_run_bookmark_details': jobs_run_details,\n",
    "        'create_ts': int(time.mktime(dt.now().timetuple()))\n",
    "    }\n",
    "    jobs_run_details_table = dynamodb.Table('jobs_run_details')\n",
    "    jobs_run_details_table.put_item(Item=jobs_run_details_item)\n",
    "    job_details_table=dynamodb.Table('jobs')\n",
    "    job_details['job_run_bookmark_details']=jobs_run_details\n",
    "    job_details_table.put_item(Item=job_details)"
   ]
  },
  {
   "cell_type": "code",
   "execution_count": 57,
   "metadata": {},
   "outputs": [],
   "source": [
    "save_job_run_details(job_details, jobs_run_details, job_start_time)"
   ]
  },
  {
   "cell_type": "code",
   "execution_count": 59,
   "metadata": {},
   "outputs": [
    {
     "name": "stdout",
     "output_type": "stream",
     "text": [
      "2022-07-21 21:00:14        127 landing/2022-07-18-0.json\n"
     ]
    }
   ],
   "source": [
    "!aws s3 ls s3://sgghactivity/landing --recursive"
   ]
  }
 ],
 "metadata": {
  "kernelspec": {
   "display_name": "Python 3.9.7 ('ga-venv': venv)",
   "language": "python",
   "name": "python3"
  },
  "language_info": {
   "codemirror_mode": {
    "name": "ipython",
    "version": 3
   },
   "file_extension": ".py",
   "mimetype": "text/x-python",
   "name": "python",
   "nbconvert_exporter": "python",
   "pygments_lexer": "ipython3",
   "version": "3.9.7"
  },
  "orig_nbformat": 4,
  "vscode": {
   "interpreter": {
    "hash": "f0297f82a06b89c7fe2fd49da1dbb1702603ec9bcb04375a016b566c8ae1f0d4"
   }
  }
 },
 "nbformat": 4,
 "nbformat_minor": 2
}
